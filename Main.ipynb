{
 "cells": [
  {
   "cell_type": "code",
   "execution_count": 1,
   "metadata": {},
   "outputs": [
    {
     "name": "stderr",
     "output_type": "stream",
     "text": [
      "Using TensorFlow backend.\n"
     ]
    }
   ],
   "source": [
    "from os import listdir\n",
    "from os.path import isfile,join\n",
    "import os\n",
    "import numpy as np\n",
    "from sklearn.feature_extraction.text import TfidfVectorizer\n",
    "import pandas as pd\n",
    "from scipy.sparse import hstack\n",
    "import tensorflow as tf\n",
    "from keras.layers import Dense\n",
    "import keras\n",
    "import matplotlib.pyplot as plt\n",
    "from IPython.display import clear_output\n",
    "%matplotlib inline"
   ]
  },
  {
   "cell_type": "code",
   "execution_count": 2,
   "metadata": {},
   "outputs": [],
   "source": [
    "mypath=os.getcwd()+\"/aclImdb/train/\""
   ]
  },
  {
   "cell_type": "code",
   "execution_count": 3,
   "metadata": {},
   "outputs": [],
   "source": [
    "def get_files(path:str):\n",
    "    pos_path=path+\"/pos/\"\n",
    "    neg_path=path+\"/neg/\"\n",
    "    pos_files = [ file for file in listdir(pos_path) if isfile(join(pos_path,file))]\n",
    "    neg_files=[ file for file in listdir(neg_path) if isfile(join(neg_path,file))]\n",
    "    return [pos_files,neg_files]"
   ]
  },
  {
   "cell_type": "code",
   "execution_count": 4,
   "metadata": {},
   "outputs": [],
   "source": [
    "pos_files,neg_files=get_files(mypath)"
   ]
  },
  {
   "cell_type": "code",
   "execution_count": 5,
   "metadata": {},
   "outputs": [],
   "source": [
    "\n",
    "def get_texts(path,pos_files,neg_files):\n",
    "    texts=[]\n",
    "    pos_path=path+\"/pos/\"\n",
    "    neg_path=path+\"/neg/\"\n",
    "    for i in pos_files:\n",
    "        with open(pos_path+i,\"r\") as fin:\n",
    "            text=fin.read()\n",
    "            fin.close()\n",
    "        filename=os.path.splitext(i)[0]\n",
    "        label=filename.split(\"_\")[1]\n",
    "        texts.append([label,text])\n",
    "    for i in neg_files:\n",
    "        with open(neg_path+i,\"r\") as fin:\n",
    "            text=fin.read()\n",
    "            fin.close()\n",
    "        filename=os.path.splitext(i)[0]\n",
    "        label=filename.split(\"_\")[1]\n",
    "        texts.append([label,text])\n",
    "    texts=np.array(texts)\n",
    "    return texts"
   ]
  },
  {
   "cell_type": "code",
   "execution_count": 6,
   "metadata": {},
   "outputs": [],
   "source": [
    "texts=get_texts(mypath,pos_files,neg_files)"
   ]
  },
  {
   "cell_type": "code",
   "execution_count": 7,
   "metadata": {},
   "outputs": [],
   "source": [
    "np.random.shuffle(texts)"
   ]
  },
  {
   "cell_type": "code",
   "execution_count": null,
   "metadata": {},
   "outputs": [],
   "source": [
    "tfidf=TfidfVectorizer(ngram_range=(1,5),min_df=0.0008)\n",
    "features=tfidf.fit_transform(texts[:,1])"
   ]
  },
  {
   "cell_type": "code",
   "execution_count": null,
   "metadata": {},
   "outputs": [],
   "source": [
    "print(len(tfidf.get_feature_names()))\n",
    "print(features.shape)"
   ]
  },
  {
   "cell_type": "code",
   "execution_count": null,
   "metadata": {},
   "outputs": [
    {
     "name": "stdout",
     "output_type": "stream",
     "text": [
      "[[0], [1], [1], [1], [0], [0], [0], [1], [0], [0]]\n"
     ]
    }
   ],
   "source": [
    "labels=[[round(float(text[0])/10.0)] for text in texts]\n",
    "print(labels[0:10])"
   ]
  },
  {
   "cell_type": "code",
   "execution_count": null,
   "metadata": {},
   "outputs": [],
   "source": [
    "\n",
    "def save_data(file:str,texts,features):\n",
    "    labels=[[round(float(text[0])/10.0)] for text in texts]\n",
    "    labels=np.array(labels)\n",
    "    features=hstack((labels,features))\n",
    "\n",
    "    pd.DataFrame(\n",
    "        features.todense(),\n",
    "        columns=['label']+tfidf.get_feature_names()\n",
    "    ).to_csv(file)"
   ]
  },
  {
   "cell_type": "code",
   "execution_count": null,
   "metadata": {},
   "outputs": [],
   "source": [
    "save_data(\"./train_data.csv\",texts,features)"
   ]
  },
  {
   "cell_type": "code",
   "execution_count": null,
   "metadata": {},
   "outputs": [],
   "source": [
    "mypath=os.getcwd()+\"/aclImdb/test/\"\n",
    "pos_files,neg_files=get_files(mypath)\n",
    "texts=get_texts(mypath,pos_files,neg_files)\n",
    "np.random.shuffle(texts)"
   ]
  },
  {
   "cell_type": "code",
   "execution_count": null,
   "metadata": {},
   "outputs": [],
   "source": [
    "features=tfidf.transform(texts[:,1])"
   ]
  },
  {
   "cell_type": "code",
   "execution_count": null,
   "metadata": {},
   "outputs": [],
   "source": [
    "save_data(\"./test_data.csv\",texts,features)"
   ]
  },
  {
   "cell_type": "code",
   "execution_count": null,
   "metadata": {},
   "outputs": [],
   "source": [
    "header=pd.read_csv(\"./train_data.csv\",iterator=True).get_chunk(1).columns.tolist()"
   ]
  },
  {
   "cell_type": "code",
   "execution_count": null,
   "metadata": {},
   "outputs": [],
   "source": [
    "print(len(header))"
   ]
  },
  {
   "cell_type": "code",
   "execution_count": null,
   "metadata": {},
   "outputs": [],
   "source": [
    "reader=pd.read_csv(\"./train_data.csv\",iterator=True,chunksize=1000)"
   ]
  },
  {
   "cell_type": "code",
   "execution_count": null,
   "metadata": {},
   "outputs": [],
   "source": [
    "for i in reader:\n",
    "    print(np.array(i.iloc[:,2:].values).shape)\n",
    "    break"
   ]
  },
  {
   "cell_type": "code",
   "execution_count": null,
   "metadata": {},
   "outputs": [],
   "source": [
    "config=tf.ConfigProto()\n",
    "config.gpu_options.allow_growth=True\n",
    "config.gpu_options.per_process_gpu_memory_fraction=0.1\n",
    "tf.reset_default_graph()\n",
    "sess=tf.InteractiveSession(config=config)\n",
    "sess.as_default()"
   ]
  },
  {
   "cell_type": "code",
   "execution_count": null,
   "metadata": {},
   "outputs": [],
   "source": [
    "\n",
    "with tf.device('/device:GPU:0'):\n",
    "    X=tf.placeholder(shape=(None,len(header)-2),dtype=tf.float32)\n",
    "    y=tf.placeholder(shape=(None),dtype=tf.float32)\n",
    "    network=keras.models.Sequential()\n",
    "    network.add(Dense(1024,activation=tf.nn.relu,input_shape=[len(header)-2]))\n",
    "    network.add(Dense(512,activation=tf.nn.relu))\n",
    "    network.add(Dense(256,activation=tf.nn.relu))\n",
    "    network.add(Dense(128,activation=tf.nn.relu))\n",
    "    network.add(Dense(64,activation=tf.nn.relu))\n",
    "    network.add(Dense(1,activation=tf.nn.sigmoid))\n",
    "    y_prime=network(X)\n",
    "    #loss=tf.nn.softmax_cross_entropy_with_logits(labels=y,logits=y_prime)\n",
    "    loss=tf.reduce_mean((y-y_prime)**2)\n",
    "    trainer=tf.train.GradientDescentOptimizer(1e-2).minimize(loss)"
   ]
  },
  {
   "cell_type": "code",
   "execution_count": null,
   "metadata": {},
   "outputs": [],
   "source": [
    "train_data=pd.read_csv(\"./train_data.csv\",iterator=True,chunksize=100)"
   ]
  },
  {
   "cell_type": "code",
   "execution_count": null,
   "metadata": {
    "scrolled": true
   },
   "outputs": [],
   "source": [
    "\n",
    "max_iter=10000\n",
    "losses=[]\n",
    "\n",
    "sess.run(tf.global_variables_initializer())\n",
    "for data in train_data:\n",
    "    train_X=np.array(data.iloc[:,2:].values)\n",
    "    train_y=np.array(data['label'].values)\n",
    "\n",
    "    for i in range(max_iter):\n",
    "        _,l=sess.run([trainer,loss],{X:train_X,y:train_y})\n",
    "        losses.append(l)\n",
    "\n",
    "    clear_output(True)\n",
    "    plt.figure(figsize=[48, 20])\n",
    "    plt.title(\"Loss\")\n",
    "    plt.plot(losses)\n",
    "    plt.show()"
   ]
  },
  {
   "cell_type": "code",
   "execution_count": null,
   "metadata": {},
   "outputs": [],
   "source": [
    "test_data=pd.read_csv(\"./train_data.csv\",iterator=True,chunksize=1000)"
   ]
  },
  {
   "cell_type": "code",
   "execution_count": null,
   "metadata": {},
   "outputs": [],
   "source": [
    "ACCURACY=[]\n",
    "for data in test_data:\n",
    "    test_X=np.array(data.iloc[:,2:].values)\n",
    "    test_y=np.array(data['label'].values)\n",
    "    y=sess.run(y_prime,{X:test_X})\n",
    "    y=np.round(y)\n",
    "    accuracy=np.equal(y,test_y)\n",
    "    accuracy=np.count_nonzero(accuracy)/float(len(y))\n",
    "    ACCURACY.append(accuracy)\n",
    "    \n",
    "    clear_output(True)\n",
    "    plt.figure(figsize=[48, 4])\n",
    "    plt.title(\"Accuracy\")\n",
    "    plt.plot(ACCURACY)\n",
    "    plt.show()"
   ]
  },
  {
   "cell_type": "code",
   "execution_count": null,
   "metadata": {},
   "outputs": [],
   "source": [
    "print(sum(ACCURACY)/len(ACCURACY))"
   ]
  },
  {
   "cell_type": "code",
   "execution_count": null,
   "metadata": {},
   "outputs": [],
   "source": []
  }
 ],
 "metadata": {
  "kernelspec": {
   "display_name": "Python 3",
   "language": "python",
   "name": "python3"
  },
  "language_info": {
   "codemirror_mode": {
    "name": "ipython",
    "version": 3
   },
   "file_extension": ".py",
   "mimetype": "text/x-python",
   "name": "python",
   "nbconvert_exporter": "python",
   "pygments_lexer": "ipython3",
   "version": "3.7.3"
  }
 },
 "nbformat": 4,
 "nbformat_minor": 2
}
